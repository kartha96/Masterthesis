{
 "cells": [
  {
   "cell_type": "code",
   "execution_count": 1,
   "id": "16db0b8a",
   "metadata": {},
   "outputs": [
    {
     "name": "stderr",
     "output_type": "stream",
     "text": [
      "[nltk_data] Downloading package stopwords to\n",
      "[nltk_data]     /Users/kartha96/nltk_data...\n",
      "[nltk_data]   Package stopwords is already up-to-date!\n",
      "[nltk_data] Downloading package wordnet to\n",
      "[nltk_data]     /Users/kartha96/nltk_data...\n",
      "[nltk_data]   Package wordnet is already up-to-date!\n",
      "[nltk_data] Downloading package punkt to /Users/kartha96/nltk_data...\n",
      "[nltk_data]   Package punkt is already up-to-date!\n"
     ]
    }
   ],
   "source": [
    "import os\n",
    "import numpy as np\n",
    "import pandas as pd\n",
    "import nltk\n",
    "import plotly.express as px\n",
    "nltk.download('stopwords')\n",
    "nltk.download('wordnet')\n",
    "nltk.download('punkt')\n",
    "from nltk.corpus import stopwords\n",
    "from nltk.stem import WordNetLemmatizer\n",
    "from nltk.tokenize import word_tokenize\n",
    "from wordcloud import WordCloud,STOPWORDS\n",
    "from bs4 import BeautifulSoup\n",
    "import re,string,unicodedata\n",
    "\n",
    "from sklearn.feature_extraction.text import CountVectorizer, TfidfVectorizer\n",
    "from sklearn.linear_model import LogisticRegression\n",
    "from sklearn.svm import LinearSVC\n",
    "from sklearn.naive_bayes import MultinomialNB\n",
    "\n",
    "\n",
    "from sklearn.model_selection import train_test_split\n",
    "from sklearn.metrics import  accuracy_score, confusion_matrix,classification_report\n"
   ]
  },
  {
   "cell_type": "code",
   "execution_count": 2,
   "id": "15760949",
   "metadata": {},
   "outputs": [
    {
     "data": {
      "text/html": [
       "<div>\n",
       "<style scoped>\n",
       "    .dataframe tbody tr th:only-of-type {\n",
       "        vertical-align: middle;\n",
       "    }\n",
       "\n",
       "    .dataframe tbody tr th {\n",
       "        vertical-align: top;\n",
       "    }\n",
       "\n",
       "    .dataframe thead th {\n",
       "        text-align: right;\n",
       "    }\n",
       "</style>\n",
       "<table border=\"1\" class=\"dataframe\">\n",
       "  <thead>\n",
       "    <tr style=\"text-align: right;\">\n",
       "      <th></th>\n",
       "      <th>Unnamed: 0</th>\n",
       "      <th>shortened_review</th>\n",
       "      <th>sentiment</th>\n",
       "      <th>word count2</th>\n",
       "    </tr>\n",
       "  </thead>\n",
       "  <tbody>\n",
       "    <tr>\n",
       "      <th>0</th>\n",
       "      <td>0</td>\n",
       "      <td>one reviewer mentioned watching oz episode hoo...</td>\n",
       "      <td>1</td>\n",
       "      <td>54</td>\n",
       "    </tr>\n",
       "    <tr>\n",
       "      <th>1</th>\n",
       "      <td>1</td>\n",
       "      <td>wonderful little production filming technique ...</td>\n",
       "      <td>1</td>\n",
       "      <td>28</td>\n",
       "    </tr>\n",
       "    <tr>\n",
       "      <th>2</th>\n",
       "      <td>2</td>\n",
       "      <td>thought wonderful way spend time hot summer we...</td>\n",
       "      <td>1</td>\n",
       "      <td>28</td>\n",
       "    </tr>\n",
       "    <tr>\n",
       "      <th>3</th>\n",
       "      <td>3</td>\n",
       "      <td>basically family little boy jake think zombie ...</td>\n",
       "      <td>0</td>\n",
       "      <td>21</td>\n",
       "    </tr>\n",
       "    <tr>\n",
       "      <th>4</th>\n",
       "      <td>4</td>\n",
       "      <td>petter matteis love time money visually stunni...</td>\n",
       "      <td>1</td>\n",
       "      <td>41</td>\n",
       "    </tr>\n",
       "  </tbody>\n",
       "</table>\n",
       "</div>"
      ],
      "text/plain": [
       "   Unnamed: 0                                   shortened_review  sentiment  \\\n",
       "0           0  one reviewer mentioned watching oz episode hoo...          1   \n",
       "1           1  wonderful little production filming technique ...          1   \n",
       "2           2  thought wonderful way spend time hot summer we...          1   \n",
       "3           3  basically family little boy jake think zombie ...          0   \n",
       "4           4  petter matteis love time money visually stunni...          1   \n",
       "\n",
       "   word count2  \n",
       "0           54  \n",
       "1           28  \n",
       "2           28  \n",
       "3           21  \n",
       "4           41  "
      ]
     },
     "execution_count": 2,
     "metadata": {},
     "output_type": "execute_result"
    }
   ],
   "source": [
    "data1=pd.read_csv('first_part.csv')\n",
    "data1.head()"
   ]
  },
  {
   "cell_type": "code",
   "execution_count": 3,
   "id": "49d5b504",
   "metadata": {},
   "outputs": [],
   "source": [
    "X=data1['shortened_review']\n",
    "Y=data1['sentiment']"
   ]
  },
  {
   "cell_type": "code",
   "execution_count": 4,
   "id": "1439d729",
   "metadata": {},
   "outputs": [],
   "source": [
    "vect=TfidfVectorizer()\n",
    "X=vect.fit_transform(data1['shortened_review'])"
   ]
  },
  {
   "cell_type": "code",
   "execution_count": 5,
   "id": "2d90fdc5",
   "metadata": {},
   "outputs": [],
   "source": [
    "x_train,x_test,y_train,y_test=train_test_split(X,Y,test_size=0.3,random_state=42)"
   ]
  },
  {
   "cell_type": "code",
   "execution_count": 6,
   "id": "10c5d626",
   "metadata": {},
   "outputs": [
    {
     "name": "stdout",
     "output_type": "stream",
     "text": [
      "Test accuracy: 80.36%\n"
     ]
    }
   ],
   "source": [
    "logreg = LogisticRegression()\n",
    "logreg.fit(x_train, y_train)\n",
    "p1 = logreg.predict(x_test)\n",
    "s1= accuracy_score(p1, y_test)\n",
    "print(\"Test accuracy: {:.2f}%\".format(s1*100))"
   ]
  },
  {
   "cell_type": "code",
   "execution_count": 7,
   "id": "caa35e48",
   "metadata": {},
   "outputs": [
    {
     "name": "stdout",
     "output_type": "stream",
     "text": [
      "[[5740 1664]\n",
      " [1258 6213]]\n",
      "\n",
      "\n",
      "              precision    recall  f1-score   support\n",
      "\n",
      "           0       0.82      0.78      0.80      7404\n",
      "           1       0.79      0.83      0.81      7471\n",
      "\n",
      "    accuracy                           0.80     14875\n",
      "   macro avg       0.80      0.80      0.80     14875\n",
      "weighted avg       0.80      0.80      0.80     14875\n",
      "\n"
     ]
    }
   ],
   "source": [
    "print(confusion_matrix(y_test,p1))\n",
    "print(\"\\n\")\n",
    "print(classification_report(y_test,p1))"
   ]
  },
  {
   "cell_type": "code",
   "execution_count": 8,
   "id": "f2b1245f",
   "metadata": {},
   "outputs": [
    {
     "name": "stderr",
     "output_type": "stream",
     "text": [
      "/Users/kartha96/anaconda3/lib/python3.11/site-packages/sklearn/svm/_classes.py:32: FutureWarning: The default value of `dual` will change from `True` to `'auto'` in 1.5. Set the value of `dual` explicitly to suppress the warning.\n",
      "  warnings.warn(\n"
     ]
    },
    {
     "name": "stdout",
     "output_type": "stream",
     "text": [
      "Test accuracy: 79.88%\n"
     ]
    }
   ],
   "source": [
    "svc = LinearSVC()\n",
    "svc.fit(x_train, y_train)\n",
    "r1 = svc.predict(x_test)\n",
    "t1 = accuracy_score(r1, y_test)\n",
    "print(\"Test accuracy: {:.2f}%\".format(t1*100))"
   ]
  },
  {
   "cell_type": "code",
   "execution_count": 9,
   "id": "34557605",
   "metadata": {
    "scrolled": true
   },
   "outputs": [
    {
     "name": "stdout",
     "output_type": "stream",
     "text": [
      "[[5773 1631]\n",
      " [1362 6109]]\n",
      "\n",
      "\n",
      "              precision    recall  f1-score   support\n",
      "\n",
      "           0       0.81      0.78      0.79      7404\n",
      "           1       0.79      0.82      0.80      7471\n",
      "\n",
      "    accuracy                           0.80     14875\n",
      "   macro avg       0.80      0.80      0.80     14875\n",
      "weighted avg       0.80      0.80      0.80     14875\n",
      "\n"
     ]
    }
   ],
   "source": [
    "print(confusion_matrix(y_test, r1))\n",
    "print(\"\\n\")\n",
    "print(classification_report(y_test,r1))"
   ]
  },
  {
   "cell_type": "code",
   "execution_count": 10,
   "id": "b7b803a4",
   "metadata": {},
   "outputs": [
    {
     "name": "stdout",
     "output_type": "stream",
     "text": [
      "Multinomial Naive Bayes Classifier Accuracy : 79.64%\n"
     ]
    }
   ],
   "source": [
    "mnb= MultinomialNB()\n",
    "mnb.fit(x_train,y_train)\n",
    "n1=mnb.predict(x_test)\n",
    "m1=accuracy_score(y_test,n1)\n",
    "print(\"Multinomial Naive Bayes Classifier Accuracy :\", \"{:.2f}%\".format(100*m1))"
   ]
  },
  {
   "cell_type": "code",
   "execution_count": 11,
   "id": "c16482ab",
   "metadata": {},
   "outputs": [
    {
     "name": "stdout",
     "output_type": "stream",
     "text": [
      "[[5876 1528]\n",
      " [1501 5970]]\n",
      "\n",
      "\n",
      "              precision    recall  f1-score   support\n",
      "\n",
      "           0       0.80      0.79      0.80      7404\n",
      "           1       0.80      0.80      0.80      7471\n",
      "\n",
      "    accuracy                           0.80     14875\n",
      "   macro avg       0.80      0.80      0.80     14875\n",
      "weighted avg       0.80      0.80      0.80     14875\n",
      "\n"
     ]
    }
   ],
   "source": [
    "print(confusion_matrix(y_test, n1))\n",
    "print(\"\\n\")\n",
    "print(classification_report(y_test, n1))"
   ]
  },
  {
   "cell_type": "code",
   "execution_count": 12,
   "id": "b7bd4d72",
   "metadata": {},
   "outputs": [
    {
     "data": {
      "text/html": [
       "<div>\n",
       "<style scoped>\n",
       "    .dataframe tbody tr th:only-of-type {\n",
       "        vertical-align: middle;\n",
       "    }\n",
       "\n",
       "    .dataframe tbody tr th {\n",
       "        vertical-align: top;\n",
       "    }\n",
       "\n",
       "    .dataframe thead th {\n",
       "        text-align: right;\n",
       "    }\n",
       "</style>\n",
       "<table border=\"1\" class=\"dataframe\">\n",
       "  <thead>\n",
       "    <tr style=\"text-align: right;\">\n",
       "      <th></th>\n",
       "      <th>Unnamed: 0</th>\n",
       "      <th>shortened_review2</th>\n",
       "      <th>sentiment</th>\n",
       "      <th>word count2</th>\n",
       "    </tr>\n",
       "  </thead>\n",
       "  <tbody>\n",
       "    <tr>\n",
       "      <th>0</th>\n",
       "      <td>0</td>\n",
       "      <td>cell glass front face inwards privacy high age...</td>\n",
       "      <td>1</td>\n",
       "      <td>55</td>\n",
       "    </tr>\n",
       "    <tr>\n",
       "      <th>1</th>\n",
       "      <td>1</td>\n",
       "      <td>seamless editing guided reference williams dia...</td>\n",
       "      <td>1</td>\n",
       "      <td>29</td>\n",
       "    </tr>\n",
       "    <tr>\n",
       "      <th>2</th>\n",
       "      <td>2</td>\n",
       "      <td>disappointed realize match point risk addictio...</td>\n",
       "      <td>1</td>\n",
       "      <td>29</td>\n",
       "    </tr>\n",
       "    <tr>\n",
       "      <th>3</th>\n",
       "      <td>3</td>\n",
       "      <td>zombie ok first going make film must decide th...</td>\n",
       "      <td>0</td>\n",
       "      <td>22</td>\n",
       "    </tr>\n",
       "    <tr>\n",
       "      <th>4</th>\n",
       "      <td>4</td>\n",
       "      <td>character meet connect one connected one way a...</td>\n",
       "      <td>1</td>\n",
       "      <td>42</td>\n",
       "    </tr>\n",
       "  </tbody>\n",
       "</table>\n",
       "</div>"
      ],
      "text/plain": [
       "   Unnamed: 0                                  shortened_review2  sentiment  \\\n",
       "0           0  cell glass front face inwards privacy high age...          1   \n",
       "1           1  seamless editing guided reference williams dia...          1   \n",
       "2           2  disappointed realize match point risk addictio...          1   \n",
       "3           3  zombie ok first going make film must decide th...          0   \n",
       "4           4  character meet connect one connected one way a...          1   \n",
       "\n",
       "   word count2  \n",
       "0           55  \n",
       "1           29  \n",
       "2           29  \n",
       "3           22  \n",
       "4           42  "
      ]
     },
     "execution_count": 12,
     "metadata": {},
     "output_type": "execute_result"
    }
   ],
   "source": [
    "data2=pd.read_csv('second_part.csv')\n",
    "data2.head()"
   ]
  },
  {
   "cell_type": "code",
   "execution_count": 13,
   "id": "76a0f470",
   "metadata": {},
   "outputs": [],
   "source": [
    "X=data2['shortened_review2']\n",
    "Y=data2['sentiment']"
   ]
  },
  {
   "cell_type": "code",
   "execution_count": 14,
   "id": "d616edb8",
   "metadata": {},
   "outputs": [],
   "source": [
    "vect=TfidfVectorizer()\n",
    "X=vect.fit_transform(data2['shortened_review2'])"
   ]
  },
  {
   "cell_type": "code",
   "execution_count": 15,
   "id": "dcc949ec",
   "metadata": {},
   "outputs": [],
   "source": [
    "x_train,x_test,y_train,y_test=train_test_split(X,Y,test_size=0.3,random_state=42)"
   ]
  },
  {
   "cell_type": "code",
   "execution_count": 16,
   "id": "3f2f18cd",
   "metadata": {},
   "outputs": [
    {
     "name": "stdout",
     "output_type": "stream",
     "text": [
      "Test accuracy: 79.40%\n"
     ]
    }
   ],
   "source": [
    "logreg = LogisticRegression()\n",
    "logreg.fit(x_train, y_train)\n",
    "p2 = logreg.predict(x_test)\n",
    "s2 = accuracy_score(p2, y_test)\n",
    "print(\"Test accuracy: {:.2f}%\".format(s2*100))"
   ]
  },
  {
   "cell_type": "code",
   "execution_count": 17,
   "id": "c1a4e298",
   "metadata": {},
   "outputs": [
    {
     "name": "stdout",
     "output_type": "stream",
     "text": [
      "[[5705 1699]\n",
      " [1365 6106]]\n",
      "\n",
      "\n",
      "              precision    recall  f1-score   support\n",
      "\n",
      "           0       0.81      0.77      0.79      7404\n",
      "           1       0.78      0.82      0.80      7471\n",
      "\n",
      "    accuracy                           0.79     14875\n",
      "   macro avg       0.79      0.79      0.79     14875\n",
      "weighted avg       0.79      0.79      0.79     14875\n",
      "\n"
     ]
    }
   ],
   "source": [
    "print(confusion_matrix(y_test,p2))\n",
    "print(\"\\n\")\n",
    "print(classification_report(y_test,p2))"
   ]
  },
  {
   "cell_type": "code",
   "execution_count": 18,
   "id": "4a9bf7dd",
   "metadata": {},
   "outputs": [
    {
     "name": "stderr",
     "output_type": "stream",
     "text": [
      "/Users/kartha96/anaconda3/lib/python3.11/site-packages/sklearn/svm/_classes.py:32: FutureWarning: The default value of `dual` will change from `True` to `'auto'` in 1.5. Set the value of `dual` explicitly to suppress the warning.\n",
      "  warnings.warn(\n"
     ]
    },
    {
     "name": "stdout",
     "output_type": "stream",
     "text": [
      "Test accuracy: 78.76%\n"
     ]
    }
   ],
   "source": [
    "svc = LinearSVC()\n",
    "svc.fit(x_train, y_train)\n",
    "r2 = svc.predict(x_test)\n",
    "t2 = accuracy_score(r2, y_test)\n",
    "print(\"Test accuracy: {:.2f}%\".format(t2*100))"
   ]
  },
  {
   "cell_type": "code",
   "execution_count": 19,
   "id": "2a02fe2d",
   "metadata": {},
   "outputs": [
    {
     "name": "stdout",
     "output_type": "stream",
     "text": [
      "[[5742 1662]\n",
      " [1498 5973]]\n",
      "\n",
      "\n",
      "              precision    recall  f1-score   support\n",
      "\n",
      "           0       0.79      0.78      0.78      7404\n",
      "           1       0.78      0.80      0.79      7471\n",
      "\n",
      "    accuracy                           0.79     14875\n",
      "   macro avg       0.79      0.79      0.79     14875\n",
      "weighted avg       0.79      0.79      0.79     14875\n",
      "\n"
     ]
    }
   ],
   "source": [
    "print(confusion_matrix(y_test, r2))\n",
    "print(\"\\n\")\n",
    "print(classification_report(y_test, r2))"
   ]
  },
  {
   "cell_type": "code",
   "execution_count": 20,
   "id": "4756f540",
   "metadata": {},
   "outputs": [
    {
     "name": "stdout",
     "output_type": "stream",
     "text": [
      "Multinomial Naive Bayes Classifier Accuracy : 78.87%\n"
     ]
    }
   ],
   "source": [
    "mnb= MultinomialNB()\n",
    "mnb.fit(x_train,y_train)\n",
    "n2=mnb.predict(x_test)\n",
    "m2=accuracy_score(y_test,n2)\n",
    "print(\"Multinomial Naive Bayes Classifier Accuracy :\", \"{:.2f}%\".format(100*m2))"
   ]
  },
  {
   "cell_type": "code",
   "execution_count": 21,
   "id": "d494cc5f",
   "metadata": {},
   "outputs": [
    {
     "name": "stdout",
     "output_type": "stream",
     "text": [
      "[[5934 1470]\n",
      " [1673 5798]]\n",
      "\n",
      "\n",
      "              precision    recall  f1-score   support\n",
      "\n",
      "           0       0.78      0.80      0.79      7404\n",
      "           1       0.80      0.78      0.79      7471\n",
      "\n",
      "    accuracy                           0.79     14875\n",
      "   macro avg       0.79      0.79      0.79     14875\n",
      "weighted avg       0.79      0.79      0.79     14875\n",
      "\n"
     ]
    }
   ],
   "source": [
    "print(confusion_matrix(y_test, n2))\n",
    "print(\"\\n\")\n",
    "print(classification_report(y_test, n2))"
   ]
  },
  {
   "cell_type": "code",
   "execution_count": 22,
   "id": "f392c4ba",
   "metadata": {},
   "outputs": [
    {
     "data": {
      "text/html": [
       "<div>\n",
       "<style scoped>\n",
       "    .dataframe tbody tr th:only-of-type {\n",
       "        vertical-align: middle;\n",
       "    }\n",
       "\n",
       "    .dataframe tbody tr th {\n",
       "        vertical-align: top;\n",
       "    }\n",
       "\n",
       "    .dataframe thead th {\n",
       "        text-align: right;\n",
       "    }\n",
       "</style>\n",
       "<table border=\"1\" class=\"dataframe\">\n",
       "  <thead>\n",
       "    <tr style=\"text-align: right;\">\n",
       "      <th></th>\n",
       "      <th>Unnamed: 0</th>\n",
       "      <th>shortened_review3</th>\n",
       "      <th>sentiment</th>\n",
       "      <th>word count3</th>\n",
       "    </tr>\n",
       "  </thead>\n",
       "  <tbody>\n",
       "    <tr>\n",
       "      <th>0</th>\n",
       "      <td>0</td>\n",
       "      <td>saw struck nasty surreal could say ready watch...</td>\n",
       "      <td>1</td>\n",
       "      <td>54</td>\n",
       "    </tr>\n",
       "    <tr>\n",
       "      <th>1</th>\n",
       "      <td>1</td>\n",
       "      <td>guard rather use traditional dream technique r...</td>\n",
       "      <td>1</td>\n",
       "      <td>28</td>\n",
       "    </tr>\n",
       "    <tr>\n",
       "      <th>2</th>\n",
       "      <td>2</td>\n",
       "      <td>impressed scarlet johanson managed tone sexy i...</td>\n",
       "      <td>1</td>\n",
       "      <td>28</td>\n",
       "    </tr>\n",
       "    <tr>\n",
       "      <th>3</th>\n",
       "      <td>3</td>\n",
       "      <td>ruin film expected see boogeyman similar movie...</td>\n",
       "      <td>0</td>\n",
       "      <td>21</td>\n",
       "    </tr>\n",
       "    <tr>\n",
       "      <th>4</th>\n",
       "      <td>4</td>\n",
       "      <td>human relation find sincere fulfillment one di...</td>\n",
       "      <td>1</td>\n",
       "      <td>41</td>\n",
       "    </tr>\n",
       "  </tbody>\n",
       "</table>\n",
       "</div>"
      ],
      "text/plain": [
       "   Unnamed: 0                                  shortened_review3  sentiment  \\\n",
       "0           0  saw struck nasty surreal could say ready watch...          1   \n",
       "1           1  guard rather use traditional dream technique r...          1   \n",
       "2           2  impressed scarlet johanson managed tone sexy i...          1   \n",
       "3           3  ruin film expected see boogeyman similar movie...          0   \n",
       "4           4  human relation find sincere fulfillment one di...          1   \n",
       "\n",
       "   word count3  \n",
       "0           54  \n",
       "1           28  \n",
       "2           28  \n",
       "3           21  \n",
       "4           41  "
      ]
     },
     "execution_count": 22,
     "metadata": {},
     "output_type": "execute_result"
    }
   ],
   "source": [
    "data3=pd.read_csv('third_part.csv')\n",
    "data3.head()"
   ]
  },
  {
   "cell_type": "code",
   "execution_count": 23,
   "id": "eb5d5ac7",
   "metadata": {},
   "outputs": [],
   "source": [
    "X=data3['shortened_review3']\n",
    "Y=data3['sentiment']"
   ]
  },
  {
   "cell_type": "code",
   "execution_count": 24,
   "id": "e0dd6385",
   "metadata": {},
   "outputs": [],
   "source": [
    "vect=TfidfVectorizer()\n",
    "X=vect.fit_transform(data3['shortened_review3'])"
   ]
  },
  {
   "cell_type": "code",
   "execution_count": 25,
   "id": "e9c79000",
   "metadata": {},
   "outputs": [],
   "source": [
    "x_train,x_test,y_train,y_test=train_test_split(X,Y,test_size=0.3,random_state=42)"
   ]
  },
  {
   "cell_type": "code",
   "execution_count": 26,
   "id": "b69cd665",
   "metadata": {},
   "outputs": [
    {
     "name": "stdout",
     "output_type": "stream",
     "text": [
      "Test accuracy: 81.55%\n"
     ]
    }
   ],
   "source": [
    "logreg = LogisticRegression()\n",
    "logreg.fit(x_train, y_train)\n",
    "p3 = logreg.predict(x_test)\n",
    "s3 = accuracy_score(p3, y_test)\n",
    "print(\"Test accuracy: {:.2f}%\".format(s3*100))"
   ]
  },
  {
   "cell_type": "code",
   "execution_count": 27,
   "id": "5fe4d13e",
   "metadata": {},
   "outputs": [
    {
     "name": "stdout",
     "output_type": "stream",
     "text": [
      "[[5905 1499]\n",
      " [1245 6226]]\n",
      "\n",
      "\n",
      "              precision    recall  f1-score   support\n",
      "\n",
      "           0       0.83      0.80      0.81      7404\n",
      "           1       0.81      0.83      0.82      7471\n",
      "\n",
      "    accuracy                           0.82     14875\n",
      "   macro avg       0.82      0.82      0.82     14875\n",
      "weighted avg       0.82      0.82      0.82     14875\n",
      "\n"
     ]
    }
   ],
   "source": [
    "print(confusion_matrix(y_test,p3))\n",
    "print(\"\\n\")\n",
    "print(classification_report(y_test, p3))"
   ]
  },
  {
   "cell_type": "code",
   "execution_count": 28,
   "id": "4dd7435c",
   "metadata": {},
   "outputs": [
    {
     "name": "stderr",
     "output_type": "stream",
     "text": [
      "/Users/kartha96/anaconda3/lib/python3.11/site-packages/sklearn/svm/_classes.py:32: FutureWarning: The default value of `dual` will change from `True` to `'auto'` in 1.5. Set the value of `dual` explicitly to suppress the warning.\n",
      "  warnings.warn(\n"
     ]
    },
    {
     "name": "stdout",
     "output_type": "stream",
     "text": [
      "Test accuracy: 80.93%\n"
     ]
    }
   ],
   "source": [
    "svc = LinearSVC()\n",
    "svc.fit(x_train, y_train)\n",
    "r3 = svc.predict(x_test)\n",
    "t3 = accuracy_score(r3, y_test)\n",
    "print(\"Test accuracy: {:.2f}%\".format(t3*100))"
   ]
  },
  {
   "cell_type": "code",
   "execution_count": 29,
   "id": "0f7e8219",
   "metadata": {
    "scrolled": true
   },
   "outputs": [
    {
     "name": "stdout",
     "output_type": "stream",
     "text": [
      "[[5905 1499]\n",
      " [1337 6134]]\n",
      "\n",
      "\n",
      "              precision    recall  f1-score   support\n",
      "\n",
      "           0       0.82      0.80      0.81      7404\n",
      "           1       0.80      0.82      0.81      7471\n",
      "\n",
      "    accuracy                           0.81     14875\n",
      "   macro avg       0.81      0.81      0.81     14875\n",
      "weighted avg       0.81      0.81      0.81     14875\n",
      "\n"
     ]
    }
   ],
   "source": [
    "print(confusion_matrix(y_test,r3))\n",
    "print(\"\\n\")\n",
    "print(classification_report(y_test,r3))"
   ]
  },
  {
   "cell_type": "code",
   "execution_count": 30,
   "id": "ff080ea4",
   "metadata": {},
   "outputs": [
    {
     "name": "stdout",
     "output_type": "stream",
     "text": [
      "Multinomial Naive Bayes Classifier Accuracy : 80.84%\n"
     ]
    }
   ],
   "source": [
    "mnb= MultinomialNB()\n",
    "mnb.fit(x_train,y_train)\n",
    "n3=mnb.predict(x_test)\n",
    "m3=accuracy_score(y_test,n3)\n",
    "print(\"Multinomial Naive Bayes Classifier Accuracy :\", \"{:.2f}%\".format(100*m3))"
   ]
  },
  {
   "cell_type": "code",
   "execution_count": 31,
   "id": "7855c58b",
   "metadata": {},
   "outputs": [
    {
     "name": "stdout",
     "output_type": "stream",
     "text": [
      "[[5998 1406]\n",
      " [1444 6027]]\n",
      "\n",
      "\n",
      "              precision    recall  f1-score   support\n",
      "\n",
      "           0       0.81      0.81      0.81      7404\n",
      "           1       0.81      0.81      0.81      7471\n",
      "\n",
      "    accuracy                           0.81     14875\n",
      "   macro avg       0.81      0.81      0.81     14875\n",
      "weighted avg       0.81      0.81      0.81     14875\n",
      "\n"
     ]
    }
   ],
   "source": [
    "print(confusion_matrix(y_test, n3))\n",
    "print(\"\\n\")\n",
    "print(classification_report(y_test, n3))"
   ]
  }
 ],
 "metadata": {
  "kernelspec": {
   "display_name": "Python 3 (ipykernel)",
   "language": "python",
   "name": "python3"
  },
  "language_info": {
   "codemirror_mode": {
    "name": "ipython",
    "version": 3
   },
   "file_extension": ".py",
   "mimetype": "text/x-python",
   "name": "python",
   "nbconvert_exporter": "python",
   "pygments_lexer": "ipython3",
   "version": "3.11.4"
  }
 },
 "nbformat": 4,
 "nbformat_minor": 5
}
